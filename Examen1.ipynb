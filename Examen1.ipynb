{
  "nbformat": 4,
  "nbformat_minor": 0,
  "metadata": {
    "colab": {
      "provenance": [],
      "authorship_tag": "ABX9TyPRKWxdOjDepZt95MRt6KJ+",
      "include_colab_link": true
    },
    "kernelspec": {
      "name": "python3",
      "display_name": "Python 3"
    },
    "language_info": {
      "name": "python"
    }
  },
  "cells": [
    {
      "cell_type": "markdown",
      "metadata": {
        "id": "view-in-github",
        "colab_type": "text"
      },
      "source": [
        "<a href=\"https://colab.research.google.com/github/DrabberSP/Examen-1/blob/main/Examen1.ipynb\" target=\"_parent\"><img src=\"https://colab.research.google.com/assets/colab-badge.svg\" alt=\"Open In Colab\"/></a>"
      ]
    },
    {
      "cell_type": "markdown",
      "source": [
        "Para el archivo: consumer_mit_lift_lab.xlsx"
      ],
      "metadata": {
        "id": "286ygFIKO8qv"
      }
    },
    {
      "cell_type": "code",
      "execution_count": 1,
      "metadata": {
        "id": "_HogQokcCr0B"
      },
      "outputs": [],
      "source": [
        "# Importamos las librerias\n",
        "import pandas as pd\n",
        "import numpy as np\n",
        "import matplotlib.pyplot as plt"
      ]
    },
    {
      "cell_type": "code",
      "source": [
        "# Cargar archivo desde equipo\n",
        "from google.colab import files\n",
        "files.upload()"
      ],
      "metadata": {
        "id": "WL1TUA11CzAX"
      },
      "execution_count": null,
      "outputs": []
    },
    {
      "cell_type": "code",
      "source": [
        "# Cargar archivo .xlsx desde equipo\n",
        "Consumer=pd.read_excel('consumer_mit_lift_lab.xlsx')"
      ],
      "metadata": {
        "id": "V-Dn_MKRDACy"
      },
      "execution_count": 3,
      "outputs": []
    },
    {
      "cell_type": "code",
      "source": [
        "# Obtenemos la información del DataFrame\n",
        "Consumer.info()"
      ],
      "metadata": {
        "colab": {
          "base_uri": "https://localhost:8080/"
        },
        "id": "XWGDjD4XDDBF",
        "outputId": "4f52bd5d-cfef-4b83-f4bf-74d2f6ba49e9"
      },
      "execution_count": 4,
      "outputs": [
        {
          "output_type": "stream",
          "name": "stdout",
          "text": [
            "<class 'pandas.core.frame.DataFrame'>\n",
            "RangeIndex: 115 entries, 0 to 114\n",
            "Data columns (total 36 columns):\n",
            " #   Column                                    Non-Null Count  Dtype  \n",
            "---  ------                                    --------------  -----  \n",
            " 0   _record_id                                115 non-null    object \n",
            " 1   _title                                    115 non-null    object \n",
            " 2   _server_updated_at                        115 non-null    object \n",
            " 3   _updated_by                               115 non-null    object \n",
            " 4   _geometry                                 115 non-null    object \n",
            " 5   _latitude                                 115 non-null    float64\n",
            " 6   _longitude                                115 non-null    float64\n",
            " 7   282_payment_method_that_purchase          115 non-null    object \n",
            " 8   283_fulfill_needs                         115 non-null    object \n",
            " 9   300_did_not_find                          6 non-null      object \n",
            " 10  237_distance_household_interviewee        115 non-null    object \n",
            " 11  299_means_transportation_consumer         115 non-null    object \n",
            " 12  238_frequency_buying_store                115 non-null    int64  \n",
            " 13  284_additional_products_store             4 non-null      object \n",
            " 14  301_electricity_bill                      115 non-null    object \n",
            " 15  305_electricity_bill_store                108 non-null    object \n",
            " 16  302_water_bill                            115 non-null    object \n",
            " 17  306_water_bill_store                      111 non-null    object \n",
            " 18  303_gas_bill                              115 non-null    object \n",
            " 19  307_gas_bill_store                        112 non-null    object \n",
            " 20  286_topups                                115 non-null    object \n",
            " 21  308_topups_in_store                       103 non-null    object \n",
            " 22  287_wire_transfers                        115 non-null    object \n",
            " 23  309_wiretransfers_in_store                113 non-null    object \n",
            " 24  320_other_services_in_store               115 non-null    object \n",
            " 25  304_additional_services_store             29 non-null     object \n",
            " 26  81_number_online_purchases_month          115 non-null    int64  \n",
            " 27  288_number_app_purchases_month            115 non-null    int64  \n",
            " 28  289_number_whatsapp_purchases_month       115 non-null    int64  \n",
            " 29  83_willingness_ultrafast_delivery         115 non-null    int64  \n",
            " 30  84_willingness_sameday_delivery           115 non-null    int64  \n",
            " 31  241_age_of_the_interviewee                115 non-null    int64  \n",
            " 32  240_gender_interviewee                    115 non-null    object \n",
            " 33  indicate_the_type_of_store                115 non-null    object \n",
            " 34  name_of_the_store                         115 non-null    object \n",
            " 35  storefront_picture_just_once_if_possible  104 non-null    object \n",
            "dtypes: float64(2), int64(7), object(27)\n",
            "memory usage: 32.5+ KB\n"
          ]
        }
      ]
    },
    {
      "cell_type": "code",
      "source": [
        "# Identificamos los valores nulos por columna\n",
        "valores_nulos=Consumer.isnull().sum()\n",
        "valores_nulos"
      ],
      "metadata": {
        "id": "zgn88cHUDG-y",
        "colab": {
          "base_uri": "https://localhost:8080/"
        },
        "outputId": "9a9525cc-60c4-44c2-d148-0cf1662ce8ec"
      },
      "execution_count": 5,
      "outputs": [
        {
          "output_type": "execute_result",
          "data": {
            "text/plain": [
              "_record_id                                    0\n",
              "_title                                        0\n",
              "_server_updated_at                            0\n",
              "_updated_by                                   0\n",
              "_geometry                                     0\n",
              "_latitude                                     0\n",
              "_longitude                                    0\n",
              "282_payment_method_that_purchase              0\n",
              "283_fulfill_needs                             0\n",
              "300_did_not_find                            109\n",
              "237_distance_household_interviewee            0\n",
              "299_means_transportation_consumer             0\n",
              "238_frequency_buying_store                    0\n",
              "284_additional_products_store               111\n",
              "301_electricity_bill                          0\n",
              "305_electricity_bill_store                    7\n",
              "302_water_bill                                0\n",
              "306_water_bill_store                          4\n",
              "303_gas_bill                                  0\n",
              "307_gas_bill_store                            3\n",
              "286_topups                                    0\n",
              "308_topups_in_store                          12\n",
              "287_wire_transfers                            0\n",
              "309_wiretransfers_in_store                    2\n",
              "320_other_services_in_store                   0\n",
              "304_additional_services_store                86\n",
              "81_number_online_purchases_month              0\n",
              "288_number_app_purchases_month                0\n",
              "289_number_whatsapp_purchases_month           0\n",
              "83_willingness_ultrafast_delivery             0\n",
              "84_willingness_sameday_delivery               0\n",
              "241_age_of_the_interviewee                    0\n",
              "240_gender_interviewee                        0\n",
              "indicate_the_type_of_store                    0\n",
              "name_of_the_store                             0\n",
              "storefront_picture_just_once_if_possible     11\n",
              "dtype: int64"
            ]
          },
          "metadata": {},
          "execution_count": 5
        }
      ]
    },
    {
      "cell_type": "markdown",
      "source": [
        "Reemplazamos Valores Nulos"
      ],
      "metadata": {
        "id": "1BlhEmkWDfaj"
      }
    },
    {
      "cell_type": "code",
      "source": [
        "# Filtro por columnas (no consecutivas)\n",
        "dataf1= Consumer.iloc[:,[1,2,3,4,7,8,9,10,11,13,14,15,16,17,18,19,20,21,22,23,24,25,32,33,34,35]] \n",
        "dataf1"
      ],
      "metadata": {
        "id": "hbZVMVQVM62N"
      },
      "execution_count": null,
      "outputs": []
    },
    {
      "cell_type": "code",
      "source": [
        "# Sustituir valores nulos por un string , en este caso para las columnas: 300_did_not_find, 284_additional_products_store\n",
        "dataf1['300_did_not_find']=dataf1['300_did_not_find'].fillna('Se encontró todo')\n",
        "dataf1['284_additional_products_store']=dataf1['284_additional_products_store'].fillna('No quiere otro producto')"
      ],
      "metadata": {
        "id": "VIDlTgE2DMnK"
      },
      "execution_count": null,
      "outputs": []
    },
    {
      "cell_type": "code",
      "source": [
        "# Corroboramos valores nulos\n",
        "valores_nulos=dataf1.isnull().sum()\n",
        "valores_nulos"
      ],
      "metadata": {
        "id": "Kq-LWxK_DYT3"
      },
      "execution_count": null,
      "outputs": []
    },
    {
      "cell_type": "code",
      "source": [
        "# Sustituir valores nulos hacia adelante, en este caso para las columnas: 305_electricity_bill_store, 306_water_bill_store\n",
        "dataf1['305_electricity_bill_store']=dataf1['305_electricity_bill_store'].fillna(method=\"ffill\")\n",
        "dataf1['306_water_bill_store']=dataf1['306_water_bill_store'].fillna(method=\"ffill\")"
      ],
      "metadata": {
        "id": "eCd1u2YbDjs7"
      },
      "execution_count": null,
      "outputs": []
    },
    {
      "cell_type": "code",
      "source": [
        "# Corroboramos valores nulos\n",
        "valores_nulos=dataf1.isnull().sum()\n",
        "valores_nulos"
      ],
      "metadata": {
        "id": "Z0ytgAWEEL5O"
      },
      "execution_count": null,
      "outputs": []
    },
    {
      "cell_type": "code",
      "source": [
        "# Sustituir valores nulos hacia atrás, en este caso para las columnas: 307_gas_bill_store, 308_topups_in_store\n",
        "dataf1['307_gas_bill_store']=dataf1['307_gas_bill_store'].fillna(method=\"bfill\")\n",
        "dataf1['308_topups_in_store']=dataf1['308_topups_in_store'].fillna(method=\"bfill\")"
      ],
      "metadata": {
        "id": "oYwEVgUnEQLL"
      },
      "execution_count": null,
      "outputs": []
    },
    {
      "cell_type": "code",
      "source": [
        "# Corroboramos valores nulos\n",
        "valores_nulos=dataf1.isnull().sum()\n",
        "valores_nulos"
      ],
      "metadata": {
        "id": "dvT-8XZUETDN"
      },
      "execution_count": null,
      "outputs": []
    },
    {
      "cell_type": "code",
      "source": [
        "# Sustituir valores nulos hacia adelante: 309_wiretransfers_in_store, 304_additional_services_store\n",
        "dataf1['309_wiretransfers_in_store']=dataf1['309_wiretransfers_in_store'].fillna(method=\"ffill\")"
      ],
      "metadata": {
        "id": "0s7lpWQmEVH9"
      },
      "execution_count": null,
      "outputs": []
    },
    {
      "cell_type": "code",
      "source": [
        "# Corroboramos valores nulos\n",
        "valores_nulos=dataf1.isnull().sum()\n",
        "valores_nulos"
      ],
      "metadata": {
        "id": "mW9cAQxhEXFj"
      },
      "execution_count": null,
      "outputs": []
    },
    {
      "cell_type": "code",
      "source": [
        "# Sustituir valores nulos por un string: \n",
        "dataf1['storefront_picture_just_once_if_possible']=dataf1['storefront_picture_just_once_if_possible'].fillna('No hay foto')\n",
        "dataf1['304_additional_services_store']=dataf1['304_additional_services_store'].fillna('No hay servicio adicional')"
      ],
      "metadata": {
        "id": "d7Avd-TyEcED"
      },
      "execution_count": null,
      "outputs": []
    },
    {
      "cell_type": "code",
      "source": [
        "# Corroboramos valores nulos\n",
        "valores_nulos=dataf1.isnull().sum()\n",
        "valores_nulos"
      ],
      "metadata": {
        "id": "aJPZL_HQEiNe"
      },
      "execution_count": null,
      "outputs": []
    },
    {
      "cell_type": "code",
      "source": [
        "# Corroboramos valores nulos en todo el data frame\n",
        "valores_nulos=dataf1.isnull().sum().sum()\n",
        "valores_nulos"
      ],
      "metadata": {
        "colab": {
          "base_uri": "https://localhost:8080/"
        },
        "id": "CCDe7PLjEmRE",
        "outputId": "85496c0c-a19c-41d0-ddf7-626d349ef2a6"
      },
      "execution_count": 17,
      "outputs": [
        {
          "output_type": "execute_result",
          "data": {
            "text/plain": [
              "0"
            ]
          },
          "metadata": {},
          "execution_count": 17
        }
      ]
    },
    {
      "cell_type": "markdown",
      "source": [
        "Separaremos las columnas de texto y numéricas para los Outliers"
      ],
      "metadata": {
        "id": "MtACFFD3HLcp"
      }
    },
    {
      "cell_type": "code",
      "source": [
        "datanum=Consumer.iloc[:,[5,6,12,26,27,28,29,30,31]] \n",
        "datanum"
      ],
      "metadata": {
        "id": "1venDqmKG4N1"
      },
      "execution_count": null,
      "outputs": []
    },
    {
      "cell_type": "markdown",
      "source": [
        "Reemplazamos Outliers"
      ],
      "metadata": {
        "id": "aoCo8001HWGp"
      }
    },
    {
      "cell_type": "code",
      "source": [
        "# Método aplicando cuantiles. Encuentro cuartiles 0.25 y 0.75\n",
        "y=datanum\n",
        "\n",
        "percentile25=y.quantile(0.25)\n",
        "percentile75=y.quantile(0.75)\n",
        "iqr=percentile75 - percentile25\n",
        "\n",
        "Limite_Superior_iqr=percentile75 + 1.5*iqr\n",
        "Limite_Inferior_iqr=percentile25 - 1.5*iqr\n",
        "print('Límite superior permitido', Limite_Superior_iqr)\n",
        "print('Límite inferior permitido', Limite_Inferior_iqr)"
      ],
      "metadata": {
        "colab": {
          "base_uri": "https://localhost:8080/"
        },
        "id": "6-lI1Kk6HZrr",
        "outputId": "48b0bebf-a31b-4834-969e-fbf1cbf28863"
      },
      "execution_count": 19,
      "outputs": [
        {
          "output_type": "stream",
          "name": "stdout",
          "text": [
            "Límite superior permitido _latitude                               19.137956\n",
            "_longitude                             -98.025979\n",
            "238_frequency_buying_store               6.000000\n",
            "81_number_online_purchases_month         6.000000\n",
            "288_number_app_purchases_month          12.500000\n",
            "289_number_whatsapp_purchases_month      2.500000\n",
            "83_willingness_ultrafast_delivery      102.500000\n",
            "84_willingness_sameday_delivery        231.250000\n",
            "241_age_of_the_interviewee              65.000000\n",
            "dtype: float64\n",
            "Límite inferior permitido _latitude                               18.959124\n",
            "_longitude                             -98.402770\n",
            "238_frequency_buying_store              -2.000000\n",
            "81_number_online_purchases_month        -2.000000\n",
            "288_number_app_purchases_month          -7.500000\n",
            "289_number_whatsapp_purchases_month     -1.500000\n",
            "83_willingness_ultrafast_delivery      -37.500000\n",
            "84_willingness_sameday_delivery       -118.750000\n",
            "241_age_of_the_interviewee              -7.000000\n",
            "dtype: float64\n"
          ]
        }
      ]
    },
    {
      "cell_type": "code",
      "source": [
        "# Encontramos outliers del DataFrame\n",
        "outliers_iqr=datanum[(y>Limite_Superior_iqr) | (y<Limite_Inferior_iqr)]\n",
        "outliers_iqr"
      ],
      "metadata": {
        "id": "pamOBY2IHh64"
      },
      "execution_count": null,
      "outputs": []
    },
    {
      "cell_type": "code",
      "source": [
        "# Obtenemos datos limpios del DataFrame\n",
        "data2_iqr=datanum[(y<=Limite_Superior_iqr) | (y>=Limite_Inferior_iqr)]\n",
        "data2_iqr"
      ],
      "metadata": {
        "id": "Pse54bT1HvMv"
      },
      "execution_count": null,
      "outputs": []
    },
    {
      "cell_type": "code",
      "source": [
        "# Corroboramos valores nulos del dataframe LIMPIO\n",
        "valores_nulos=data2_iqr.isnull().sum()\n",
        "valores_nulos"
      ],
      "metadata": {
        "id": "F8oZcGPAH1c3",
        "colab": {
          "base_uri": "https://localhost:8080/"
        },
        "outputId": "5d415704-4b7c-4190-eab6-27518033cacd"
      },
      "execution_count": 22,
      "outputs": [
        {
          "output_type": "execute_result",
          "data": {
            "text/plain": [
              "_latitude                              0\n",
              "_longitude                             0\n",
              "238_frequency_buying_store             0\n",
              "81_number_online_purchases_month       0\n",
              "288_number_app_purchases_month         0\n",
              "289_number_whatsapp_purchases_month    0\n",
              "83_willingness_ultrafast_delivery      0\n",
              "84_willingness_sameday_delivery        0\n",
              "241_age_of_the_interviewee             0\n",
              "dtype: int64"
            ]
          },
          "metadata": {},
          "execution_count": 22
        }
      ]
    },
    {
      "cell_type": "code",
      "source": [
        "# Reemplazamos valores atipicos (nulos) del dataframe con \"mean\"\n",
        "data3_iqr=data2_iqr.copy()\n",
        "data3_iqr=data3_iqr.fillna(round(data2_iqr.mean(),1))\n",
        "data3_iqr"
      ],
      "metadata": {
        "id": "tKt9TaT_ID7n"
      },
      "execution_count": null,
      "outputs": []
    },
    {
      "cell_type": "code",
      "source": [
        "# Unimos la columna\n",
        "Union=datanum\n",
        "Datos_limpios=pd.concat([Union, dataf1],axis=1)\n",
        "Datos_limpios#conccatenar con columna limpia de nulos"
      ],
      "metadata": {
        "id": "VDSvpU9RIVY8"
      },
      "execution_count": null,
      "outputs": []
    },
    {
      "cell_type": "code",
      "source": [
        "# Corroboramos valores nulos\n",
        "valores_nulos=Datos_limpios.isnull().sum()\n",
        "valores_nulos"
      ],
      "metadata": {
        "id": "A6EFEA7IJE-x",
        "colab": {
          "base_uri": "https://localhost:8080/"
        },
        "outputId": "26625a30-c032-4f36-e45f-554916ad9ae9"
      },
      "execution_count": 25,
      "outputs": [
        {
          "output_type": "execute_result",
          "data": {
            "text/plain": [
              "_latitude                                   0\n",
              "_longitude                                  0\n",
              "238_frequency_buying_store                  0\n",
              "81_number_online_purchases_month            0\n",
              "288_number_app_purchases_month              0\n",
              "289_number_whatsapp_purchases_month         0\n",
              "83_willingness_ultrafast_delivery           0\n",
              "84_willingness_sameday_delivery             0\n",
              "241_age_of_the_interviewee                  0\n",
              "_title                                      0\n",
              "_server_updated_at                          0\n",
              "_updated_by                                 0\n",
              "_geometry                                   0\n",
              "282_payment_method_that_purchase            0\n",
              "283_fulfill_needs                           0\n",
              "300_did_not_find                            0\n",
              "237_distance_household_interviewee          0\n",
              "299_means_transportation_consumer           0\n",
              "284_additional_products_store               0\n",
              "301_electricity_bill                        0\n",
              "305_electricity_bill_store                  0\n",
              "302_water_bill                              0\n",
              "306_water_bill_store                        0\n",
              "303_gas_bill                                0\n",
              "307_gas_bill_store                          0\n",
              "286_topups                                  0\n",
              "308_topups_in_store                         0\n",
              "287_wire_transfers                          0\n",
              "309_wiretransfers_in_store                  0\n",
              "320_other_services_in_store                 0\n",
              "304_additional_services_store               0\n",
              "240_gender_interviewee                      0\n",
              "indicate_the_type_of_store                  0\n",
              "name_of_the_store                           0\n",
              "storefront_picture_just_once_if_possible    0\n",
              "dtype: int64"
            ]
          },
          "metadata": {},
          "execution_count": 25
        }
      ]
    },
    {
      "cell_type": "code",
      "source": [
        "# Convertir a archivo csv\n",
        "Datos_limpios.to_csv(\"Consumers_Limpio.csv\")"
      ],
      "metadata": {
        "id": "n7-uqCabK20v"
      },
      "execution_count": 27,
      "outputs": []
    },
    {
      "cell_type": "code",
      "source": [
        "# Descargar archivo filtrado en xlsx\n",
        "from google.colab import files\n",
        "files.download(\"Consumers_Limpio.csv\")"
      ],
      "metadata": {
        "colab": {
          "base_uri": "https://localhost:8080/",
          "height": 17
        },
        "id": "_lh-4MOAK3zy",
        "outputId": "1e4f7906-bc96-44e7-beb7-d9faeed30c2f"
      },
      "execution_count": 28,
      "outputs": [
        {
          "output_type": "display_data",
          "data": {
            "text/plain": [
              "<IPython.core.display.Javascript object>"
            ],
            "application/javascript": [
              "\n",
              "    async function download(id, filename, size) {\n",
              "      if (!google.colab.kernel.accessAllowed) {\n",
              "        return;\n",
              "      }\n",
              "      const div = document.createElement('div');\n",
              "      const label = document.createElement('label');\n",
              "      label.textContent = `Downloading \"${filename}\": `;\n",
              "      div.appendChild(label);\n",
              "      const progress = document.createElement('progress');\n",
              "      progress.max = size;\n",
              "      div.appendChild(progress);\n",
              "      document.body.appendChild(div);\n",
              "\n",
              "      const buffers = [];\n",
              "      let downloaded = 0;\n",
              "\n",
              "      const channel = await google.colab.kernel.comms.open(id);\n",
              "      // Send a message to notify the kernel that we're ready.\n",
              "      channel.send({})\n",
              "\n",
              "      for await (const message of channel.messages) {\n",
              "        // Send a message to notify the kernel that we're ready.\n",
              "        channel.send({})\n",
              "        if (message.buffers) {\n",
              "          for (const buffer of message.buffers) {\n",
              "            buffers.push(buffer);\n",
              "            downloaded += buffer.byteLength;\n",
              "            progress.value = downloaded;\n",
              "          }\n",
              "        }\n",
              "      }\n",
              "      const blob = new Blob(buffers, {type: 'application/binary'});\n",
              "      const a = document.createElement('a');\n",
              "      a.href = window.URL.createObjectURL(blob);\n",
              "      a.download = filename;\n",
              "      div.appendChild(a);\n",
              "      a.click();\n",
              "      div.remove();\n",
              "    }\n",
              "  "
            ]
          },
          "metadata": {}
        },
        {
          "output_type": "display_data",
          "data": {
            "text/plain": [
              "<IPython.core.display.Javascript object>"
            ],
            "application/javascript": [
              "download(\"download_8efdcb04-5953-4c9c-9256-a5f67de50d36\", \"Consumers_Limpio.csv\", 52946)"
            ]
          },
          "metadata": {}
        }
      ]
    }
  ]
}