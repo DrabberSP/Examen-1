{
  "nbformat": 4,
  "nbformat_minor": 0,
  "metadata": {
    "colab": {
      "provenance": [],
      "authorship_tag": "ABX9TyPrwiuf8AFcoNlUBJjKks7k",
      "include_colab_link": true
    },
    "kernelspec": {
      "name": "python3",
      "display_name": "Python 3"
    },
    "language_info": {
      "name": "python"
    }
  },
  "cells": [
    {
      "cell_type": "markdown",
      "metadata": {
        "id": "view-in-github",
        "colab_type": "text"
      },
      "source": [
        "<a href=\"https://colab.research.google.com/github/DrabberSP/Examen-1/blob/main/Examen1_2.ipynb\" target=\"_parent\"><img src=\"https://colab.research.google.com/assets/colab-badge.svg\" alt=\"Open In Colab\"/></a>"
      ]
    },
    {
      "cell_type": "markdown",
      "source": [
        "Para el archivo: lastmile_delivery_operations_mit_lift_lab.csv"
      ],
      "metadata": {
        "id": "pCEJmzt8ToTx"
      }
    },
    {
      "cell_type": "code",
      "execution_count": null,
      "metadata": {
        "id": "qeFGI0AzTh08"
      },
      "outputs": [],
      "source": [
        "# Importamos las librerias\n",
        "import pandas as pd\n",
        "import numpy as np\n",
        "import matplotlib.pyplot as plt"
      ]
    },
    {
      "cell_type": "code",
      "source": [
        "# Cargar archivo csv desde equipo\n",
        "from google.colab import files\n",
        "files.upload()"
      ],
      "metadata": {
        "id": "t5qA11PcTpu9"
      },
      "execution_count": null,
      "outputs": []
    },
    {
      "cell_type": "code",
      "source": [
        "# Carga desde un archivo .csv sin índice\n",
        "data= pd.read_csv('lastmile_delivery_operations_mit_lift_lab.csv')"
      ],
      "metadata": {
        "id": "pv1s7LHmTr2V"
      },
      "execution_count": null,
      "outputs": []
    },
    {
      "cell_type": "code",
      "source": [
        "# Identificar valores nulos por columna\n",
        "valores_nulos=data.isnull().sum()\n",
        "valores_nulos"
      ],
      "metadata": {
        "colab": {
          "base_uri": "https://localhost:8080/"
        },
        "id": "TsWpVDeiURw1",
        "outputId": "3838b5c4-e8fa-4167-b74c-51ff71be018c"
      },
      "execution_count": null,
      "outputs": [
        {
          "output_type": "execute_result",
          "data": {
            "text/plain": [
              "_record_id                                         0\n",
              "_title                                             6\n",
              "_server_updated_at                                 0\n",
              "_updated_by                                        0\n",
              "_geometry                                          0\n",
              "_latitude                                          0\n",
              "_longitude                                         0\n",
              "arrival_of_the_freight_vehicle                     0\n",
              "plates                                             1\n",
              "company_if_visible                                73\n",
              "visit_purpose                                      0\n",
              "type_of_vehicle                                    0\n",
              "number_of_operators                                0\n",
              "refrigerated_truck                                 0\n",
              "type_of_cargo                                      0\n",
              "picture_of_the_parked_freight_vehicle              0\n",
              "departure_of_the_freight_vehicle                   0\n",
              "where_was_the_vehicle_parked                       0\n",
              "while_parked_was_the_engine_running                0\n",
              "used_traffic_cone                                  0\n",
              "vehicles_unloading_door                            0\n",
              "number_of_available_trolleys                       0\n",
              "serving_customer                                 147\n",
              "garage_blocking                                    0\n",
              "accident                                           0\n",
              "describe_the_accident                            182\n",
              "noise                                              0\n",
              "traffic_congestion                                 0\n",
              "maximum_number_of_vehicles_in_the_traffic_jam    180\n",
              "dtype: int64"
            ]
          },
          "metadata": {},
          "execution_count": 4
        }
      ]
    },
    {
      "cell_type": "markdown",
      "source": [
        "Remplazamos valores nulos del DataFrame"
      ],
      "metadata": {
        "id": "0bqytqIpUl7y"
      }
    },
    {
      "cell_type": "code",
      "source": [
        "# Realizamos una copia de data frame\n",
        "data2=data.copy()"
      ],
      "metadata": {
        "id": "Qv5KJJKoUplE"
      },
      "execution_count": null,
      "outputs": []
    },
    {
      "cell_type": "code",
      "source": [
        "# Sustituir valores nulos por un string, en este caso para las columnas:_title, plates \n",
        "data2['_title']=data2['_title'].fillna('Sin calle')\n",
        "data2['plates']=data2['plates'].fillna('Sin placas')"
      ],
      "metadata": {
        "id": "f_kFoEZVU4q0"
      },
      "execution_count": null,
      "outputs": []
    },
    {
      "cell_type": "code",
      "source": [
        "# Corroboramos valores nulos\n",
        "valores_nulos=data2.isnull().sum()\n",
        "valores_nulos"
      ],
      "metadata": {
        "colab": {
          "base_uri": "https://localhost:8080/"
        },
        "id": "hlfymlyrWL7Q",
        "outputId": "c51f07a0-8faf-4805-fc7a-d4d3acb8daf4"
      },
      "execution_count": null,
      "outputs": [
        {
          "output_type": "execute_result",
          "data": {
            "text/plain": [
              "_record_id                                         0\n",
              "_title                                             0\n",
              "_server_updated_at                                 0\n",
              "_updated_by                                        0\n",
              "_geometry                                          0\n",
              "_latitude                                          0\n",
              "_longitude                                         0\n",
              "arrival_of_the_freight_vehicle                     0\n",
              "plates                                             0\n",
              "company_if_visible                                73\n",
              "visit_purpose                                      0\n",
              "type_of_vehicle                                    0\n",
              "number_of_operators                                0\n",
              "refrigerated_truck                                 0\n",
              "type_of_cargo                                      0\n",
              "picture_of_the_parked_freight_vehicle              0\n",
              "departure_of_the_freight_vehicle                   0\n",
              "where_was_the_vehicle_parked                       0\n",
              "while_parked_was_the_engine_running                0\n",
              "used_traffic_cone                                  0\n",
              "vehicles_unloading_door                            0\n",
              "number_of_available_trolleys                       0\n",
              "serving_customer                                 147\n",
              "garage_blocking                                    0\n",
              "accident                                           0\n",
              "describe_the_accident                            182\n",
              "noise                                              0\n",
              "traffic_congestion                                 0\n",
              "maximum_number_of_vehicles_in_the_traffic_jam    180\n",
              "dtype: int64"
            ]
          },
          "metadata": {},
          "execution_count": 7
        }
      ]
    },
    {
      "cell_type": "code",
      "source": [
        "# Sustituir valores nulos  por un string, en este caso para la columna: serving_costumer\n",
        "data2['serving_customer']=data2['serving_customer'].fillna('No aplica')"
      ],
      "metadata": {
        "id": "2thDSe6PWRh9"
      },
      "execution_count": null,
      "outputs": []
    },
    {
      "cell_type": "code",
      "source": [
        "# Sustituir valores nulos por un string, en este caso para la columna: company_if_visible, describe_the_accident, maximum_number_of_vehicles_in_the_traffic_jam\n",
        "data2['company_if_visible']=data2['company_if_visible'].fillna('Sin nombre de compañia')\n",
        "data2['describe_the_accident']=data2['describe_the_accident'].fillna('Sin accidente')\n",
        "data2['maximum_number_of_vehicles_in_the_traffic_jam']=data2['maximum_number_of_vehicles_in_the_traffic_jam'].fillna('Vacío')"
      ],
      "metadata": {
        "id": "-8DvvTZGWlUi"
      },
      "execution_count": null,
      "outputs": []
    },
    {
      "cell_type": "code",
      "source": [
        "# Corroboramos valores nulos\n",
        "valores_nulos=data2.isnull().sum()\n",
        "valores_nulos"
      ],
      "metadata": {
        "id": "fpv9FVHSYB9B",
        "colab": {
          "base_uri": "https://localhost:8080/"
        },
        "outputId": "e8e04140-ac49-415b-f3c2-65b920972f81"
      },
      "execution_count": null,
      "outputs": [
        {
          "output_type": "execute_result",
          "data": {
            "text/plain": [
              "_record_id                                       0\n",
              "_title                                           0\n",
              "_server_updated_at                               0\n",
              "_updated_by                                      0\n",
              "_geometry                                        0\n",
              "_latitude                                        0\n",
              "_longitude                                       0\n",
              "arrival_of_the_freight_vehicle                   0\n",
              "plates                                           0\n",
              "company_if_visible                               0\n",
              "visit_purpose                                    0\n",
              "type_of_vehicle                                  0\n",
              "number_of_operators                              0\n",
              "refrigerated_truck                               0\n",
              "type_of_cargo                                    0\n",
              "picture_of_the_parked_freight_vehicle            0\n",
              "departure_of_the_freight_vehicle                 0\n",
              "where_was_the_vehicle_parked                     0\n",
              "while_parked_was_the_engine_running              0\n",
              "used_traffic_cone                                0\n",
              "vehicles_unloading_door                          0\n",
              "number_of_available_trolleys                     0\n",
              "serving_customer                                 0\n",
              "garage_blocking                                  0\n",
              "accident                                         0\n",
              "describe_the_accident                            0\n",
              "noise                                            0\n",
              "traffic_congestion                               0\n",
              "maximum_number_of_vehicles_in_the_traffic_jam    0\n",
              "dtype: int64"
            ]
          },
          "metadata": {},
          "execution_count": 10
        }
      ]
    },
    {
      "cell_type": "code",
      "source": [
        "# Corroboramos valores nulos en todo el data frame\n",
        "valores_nulos=data2.isnull().sum().sum()\n",
        "valores_nulos"
      ],
      "metadata": {
        "id": "6GBILka7DEhw",
        "outputId": "40fa8be5-4a50-464e-e6e0-0e0cb94b0575",
        "colab": {
          "base_uri": "https://localhost:8080/"
        }
      },
      "execution_count": null,
      "outputs": [
        {
          "output_type": "execute_result",
          "data": {
            "text/plain": [
              "0"
            ]
          },
          "metadata": {},
          "execution_count": 11
        }
      ]
    },
    {
      "cell_type": "markdown",
      "source": [
        "Reemplazar Outliers"
      ],
      "metadata": {
        "id": "aJ7vmRDGdbsE"
      }
    },
    {
      "cell_type": "code",
      "source": [
        "# Método aplicando cuantiles. Encuentro cuartiles 0.25 y 0.75\n",
        "y=data2\n",
        "\n",
        "percentile25=y.quantile(0.25)\n",
        "percentile75=y.quantile(0.75)\n",
        "iqr=percentile75 - percentile25\n",
        "\n",
        "Limite_Superior_iqr=percentile75 + 1.5*iqr\n",
        "Limite_Inferior_iqr=percentile25 - 1.5*iqr\n",
        "print('Límite superior permitido', Limite_Superior_iqr)\n",
        "print('Límite inferior permitido', Limite_Inferior_iqr)"
      ],
      "metadata": {
        "colab": {
          "base_uri": "https://localhost:8080/"
        },
        "id": "LjtR9tUmdc8T",
        "outputId": "cefc97cf-62ad-4f31-d071-15587016b786"
      },
      "execution_count": null,
      "outputs": [
        {
          "output_type": "stream",
          "name": "stdout",
          "text": [
            "Límite superior permitido _latitude                       19.123517\n",
            "_longitude                     -98.098434\n",
            "number_of_operators              3.500000\n",
            "number_of_available_trolleys     2.500000\n",
            "dtype: float64\n",
            "Límite inferior permitido _latitude                       18.961271\n",
            "_longitude                     -98.366619\n",
            "number_of_operators             -0.500000\n",
            "number_of_available_trolleys    -1.500000\n",
            "dtype: float64\n"
          ]
        }
      ]
    },
    {
      "cell_type": "code",
      "source": [
        "# Encontramos outliers del DataFrame\n",
        "outliers_iqr=data2[(y>Limite_Superior_iqr) | (y<Limite_Inferior_iqr)]\n",
        "outliers_iqr"
      ],
      "metadata": {
        "id": "aNt12b3ZdyzT"
      },
      "execution_count": null,
      "outputs": []
    },
    {
      "cell_type": "code",
      "source": [
        "# Obtenemos datos limpios del DataFrame\n",
        "data3_iqr=data2[(y<=Limite_Superior_iqr) | (y>=Limite_Inferior_iqr)]\n",
        "data3_iqr"
      ],
      "metadata": {
        "id": "F1pgjEeQd8er"
      },
      "execution_count": null,
      "outputs": []
    },
    {
      "cell_type": "code",
      "source": [
        "# Eliminamos columnas innecesarias....\n",
        "data4_iqr=data3_iqr.drop(['_record_id','_title','_server_updated_at','_updated_by','_geometry','arrival_of_the_freight_vehicle','plates','company_if_visible','visit_purpose','type_of_vehicle','refrigerated_truck','type_of_cargo','picture_of_the_parked_freight_vehicle','departure_of_the_freight_vehicle','where_was_the_vehicle_parked','while_parked_was_the_engine_running','used_traffic_cone','vehicles_unloading_door','serving_customer','garage_blocking','accident','describe_the_accident','noise','traffic_congestion','maximum_number_of_vehicles_in_the_traffic_jam'],axis=1)\n",
        "data4_iqr"
      ],
      "metadata": {
        "id": "Pa6Gjy2weDtC"
      },
      "execution_count": null,
      "outputs": []
    },
    {
      "cell_type": "code",
      "source": [
        "# Corroboramos valores nulos del dataframe LIMPIO\n",
        "valores_nulos=data4_iqr.isnull().sum()\n",
        "valores_nulos"
      ],
      "metadata": {
        "colab": {
          "base_uri": "https://localhost:8080/"
        },
        "id": "UXtyZRCQgW-u",
        "outputId": "f96b18cd-2960-4b47-d048-85f6d4f08f0f"
      },
      "execution_count": null,
      "outputs": [
        {
          "output_type": "execute_result",
          "data": {
            "text/plain": [
              "_latitude                       0\n",
              "_longitude                      0\n",
              "number_of_operators             0\n",
              "number_of_available_trolleys    0\n",
              "dtype: int64"
            ]
          },
          "metadata": {},
          "execution_count": 48
        }
      ]
    },
    {
      "cell_type": "code",
      "source": [
        "# Reemplazamos valores atipicos (nulos) del dataframe con \"mean\"\n",
        "data5_iqr=data4_iqr.copy()\n",
        "data5_iqr=data5_iqr.fillna(round(data4_iqr.mean(),1))\n",
        "data5_iqr"
      ],
      "metadata": {
        "id": "WZPE3eCQgfu2"
      },
      "execution_count": null,
      "outputs": []
    },
    {
      "cell_type": "code",
      "source": [
        "# Unimos\n",
        "strings=data2[['_record_id','_title','_server_updated_at','_updated_by','_geometry','arrival_of_the_freight_vehicle','plates','company_if_visible','visit_purpose','type_of_vehicle','refrigerated_truck','type_of_cargo','picture_of_the_parked_freight_vehicle','departure_of_the_freight_vehicle','where_was_the_vehicle_parked','while_parked_was_the_engine_running','used_traffic_cone','vehicles_unloading_door','serving_customer','garage_blocking','accident','describe_the_accident','noise','traffic_congestion','maximum_number_of_vehicles_in_the_traffic_jam']]\n",
        "Datos_limpios=pd.concat([strings, data2], axis=1)\n",
        "Datos_limpios"
      ],
      "metadata": {
        "id": "VFsyb0dIhCJM"
      },
      "execution_count": null,
      "outputs": []
    },
    {
      "cell_type": "code",
      "source": [
        "# Corroboramos valores nulos\n",
        "valores_nulos=Datos_limpios.isnull().sum()\n",
        "valores_nulos"
      ],
      "metadata": {
        "id": "E7N0Gr_4hpMF"
      },
      "execution_count": null,
      "outputs": []
    },
    {
      "cell_type": "code",
      "source": [
        "# Convertir DataFrame a csv\n",
        "Datos_limpios.to_csv('Datos_limpios_LastMile1.csv')"
      ],
      "metadata": {
        "id": "370gxpTvhuei"
      },
      "execution_count": null,
      "outputs": []
    },
    {
      "cell_type": "code",
      "source": [
        "# Descargar archivo\n",
        "from google.colab import files\n",
        "files.download('Datos_limpios_LastMile1.csv')"
      ],
      "metadata": {
        "colab": {
          "base_uri": "https://localhost:8080/",
          "height": 17
        },
        "id": "4qhl-mz-hxvs",
        "outputId": "f9bf332f-3bfa-4a88-beed-64e56d622c32"
      },
      "execution_count": null,
      "outputs": [
        {
          "output_type": "display_data",
          "data": {
            "text/plain": [
              "<IPython.core.display.Javascript object>"
            ],
            "application/javascript": [
              "\n",
              "    async function download(id, filename, size) {\n",
              "      if (!google.colab.kernel.accessAllowed) {\n",
              "        return;\n",
              "      }\n",
              "      const div = document.createElement('div');\n",
              "      const label = document.createElement('label');\n",
              "      label.textContent = `Downloading \"${filename}\": `;\n",
              "      div.appendChild(label);\n",
              "      const progress = document.createElement('progress');\n",
              "      progress.max = size;\n",
              "      div.appendChild(progress);\n",
              "      document.body.appendChild(div);\n",
              "\n",
              "      const buffers = [];\n",
              "      let downloaded = 0;\n",
              "\n",
              "      const channel = await google.colab.kernel.comms.open(id);\n",
              "      // Send a message to notify the kernel that we're ready.\n",
              "      channel.send({})\n",
              "\n",
              "      for await (const message of channel.messages) {\n",
              "        // Send a message to notify the kernel that we're ready.\n",
              "        channel.send({})\n",
              "        if (message.buffers) {\n",
              "          for (const buffer of message.buffers) {\n",
              "            buffers.push(buffer);\n",
              "            downloaded += buffer.byteLength;\n",
              "            progress.value = downloaded;\n",
              "          }\n",
              "        }\n",
              "      }\n",
              "      const blob = new Blob(buffers, {type: 'application/binary'});\n",
              "      const a = document.createElement('a');\n",
              "      a.href = window.URL.createObjectURL(blob);\n",
              "      a.download = filename;\n",
              "      div.appendChild(a);\n",
              "      a.click();\n",
              "      div.remove();\n",
              "    }\n",
              "  "
            ]
          },
          "metadata": {}
        },
        {
          "output_type": "display_data",
          "data": {
            "text/plain": [
              "<IPython.core.display.Javascript object>"
            ],
            "application/javascript": [
              "download(\"download_6356049a-ca68-4c3c-9e8b-41368a9bf5aa\", \"Datos_limpios_LastMile1.csv\", 174996)"
            ]
          },
          "metadata": {}
        }
      ]
    }
  ]
}