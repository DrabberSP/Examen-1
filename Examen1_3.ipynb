{
  "cells": [
    {
      "cell_type": "markdown",
      "metadata": {
        "id": "view-in-github",
        "colab_type": "text"
      },
      "source": [
        "<a href=\"https://colab.research.google.com/github/DrabberSP/Examen-1/blob/main/Examen1_3.ipynb\" target=\"_parent\"><img src=\"https://colab.research.google.com/assets/colab-badge.svg\" alt=\"Open In Colab\"/></a>"
      ]
    },
    {
      "cell_type": "markdown",
      "source": [
        "Para el archivo: lastmile_delivery_operations_mit_lift_lab_serving_customer.csv"
      ],
      "metadata": {
        "id": "RHUpt6-2T_pi"
      }
    },
    {
      "cell_type": "code",
      "execution_count": null,
      "metadata": {
        "id": "myQuzJnXisLj"
      },
      "outputs": [],
      "source": [
        "# Importamos las librerias\n",
        "import pandas as pd\n",
        "import numpy as np\n",
        "import matplotlib.pyplot as plt"
      ]
    },
    {
      "cell_type": "code",
      "execution_count": null,
      "metadata": {
        "id": "7Nf0_BTQi2a8"
      },
      "outputs": [],
      "source": [
        "# Cargar archivo csv desde equipo\n",
        "from google.colab import files\n",
        "files.upload()"
      ]
    },
    {
      "cell_type": "code",
      "execution_count": null,
      "metadata": {
        "id": "3mtK2yKXi8x1"
      },
      "outputs": [],
      "source": [
        "# Carga desde un archivo .csv sin índice\n",
        "data= pd.read_csv('lastmile_delivery_operations_mit_lift_lab_serving_customer.csv')"
      ]
    },
    {
      "cell_type": "code",
      "execution_count": null,
      "metadata": {
        "colab": {
          "base_uri": "https://localhost:8080/"
        },
        "id": "htwwiD1FjJRh",
        "outputId": "145c3454-7289-4c72-ffc6-58672adbc756"
      },
      "outputs": [
        {
          "output_type": "execute_result",
          "data": {
            "text/plain": [
              "_child_record_id                           0\n",
              "_record_id                                 0\n",
              "_parent_id                                 0\n",
              "_title                                     0\n",
              "_version                                   0\n",
              "_created_at                                0\n",
              "_updated_at                                0\n",
              "_created_by                                0\n",
              "_updated_by                                0\n",
              "_index                                     0\n",
              "_geometry                                  0\n",
              "_latitude                                  0\n",
              "_longitude                                 0\n",
              "_changeset_id                              0\n",
              "_created_duration                          0\n",
              "_updated_duration                          0\n",
              "_edited_duration                           0\n",
              "name_of_the_store                          0\n",
              "entering_the_store                         0\n",
              "number_of_customers_in_store               0\n",
              "number_of_suppliers_in_store               0\n",
              "picture_cargo_being_delivered             10\n",
              "picture_cargo_being_delivered_captions    33\n",
              "picture_cargo_being_delivered_urls        10\n",
              "number_of_cases_boxes_delivered            0\n",
              "trolley_in_use                             0\n",
              "leaving_the_store                          0\n",
              "dtype: int64"
            ]
          },
          "metadata": {},
          "execution_count": 4
        }
      ],
      "source": [
        "# Identififar valores nulos por columna\n",
        "valores_nulos=data.isnull().sum()\n",
        "valores_nulos"
      ]
    },
    {
      "cell_type": "markdown",
      "metadata": {
        "id": "hQDzs-06jO1J"
      },
      "source": [
        "Reemplazamos valores nulos del DataFrame"
      ]
    },
    {
      "cell_type": "code",
      "execution_count": null,
      "metadata": {
        "id": "xnr803otjRaB"
      },
      "outputs": [],
      "source": [
        "# Sustituir valores nulos por un string, en este caso se eliminan aquellas columnas con nulos:picture_cargo_being_delivered,picture_cargo_being_delivered_captions,picture_cargo_being_delivered_urls\n",
        "data['picture_cargo_being_delivered']=data['picture_cargo_being_delivered'].fillna('Sin foto')\n",
        "data['picture_cargo_being_delivered_captions']=data['picture_cargo_being_delivered_captions'].fillna('Sin foto')\n",
        "data['picture_cargo_being_delivered_urls']=data['picture_cargo_being_delivered_urls'].fillna('Sin foto')"
      ]
    },
    {
      "cell_type": "code",
      "execution_count": null,
      "metadata": {
        "colab": {
          "base_uri": "https://localhost:8080/"
        },
        "id": "L91g_AvfjxzG",
        "outputId": "c3557636-3ecd-4176-e88d-5fc8892e8bfb"
      },
      "outputs": [
        {
          "output_type": "execute_result",
          "data": {
            "text/plain": [
              "_child_record_id                          0\n",
              "_record_id                                0\n",
              "_parent_id                                0\n",
              "_title                                    0\n",
              "_version                                  0\n",
              "_created_at                               0\n",
              "_updated_at                               0\n",
              "_created_by                               0\n",
              "_updated_by                               0\n",
              "_index                                    0\n",
              "_geometry                                 0\n",
              "_latitude                                 0\n",
              "_longitude                                0\n",
              "_changeset_id                             0\n",
              "_created_duration                         0\n",
              "_updated_duration                         0\n",
              "_edited_duration                          0\n",
              "name_of_the_store                         0\n",
              "entering_the_store                        0\n",
              "number_of_customers_in_store              0\n",
              "number_of_suppliers_in_store              0\n",
              "picture_cargo_being_delivered             0\n",
              "picture_cargo_being_delivered_captions    0\n",
              "picture_cargo_being_delivered_urls        0\n",
              "number_of_cases_boxes_delivered           0\n",
              "trolley_in_use                            0\n",
              "leaving_the_store                         0\n",
              "dtype: int64"
            ]
          },
          "metadata": {},
          "execution_count": 6
        }
      ],
      "source": [
        "# Corroboramos valores nulos\n",
        "valores_nulos=data.isnull().sum()\n",
        "valores_nulos"
      ]
    },
    {
      "cell_type": "code",
      "source": [
        "# Corroboramos valores nulos en todo el data frame\n",
        "valores_nulos=data.isnull().sum().sum()\n",
        "valores_nulos"
      ],
      "metadata": {
        "colab": {
          "base_uri": "https://localhost:8080/"
        },
        "id": "7UG2NkGjDj7O",
        "outputId": "79828f13-c0a4-4bb8-8fb5-f1e41d185b43"
      },
      "execution_count": null,
      "outputs": [
        {
          "output_type": "execute_result",
          "data": {
            "text/plain": [
              "0"
            ]
          },
          "metadata": {},
          "execution_count": 7
        }
      ]
    },
    {
      "cell_type": "markdown",
      "metadata": {
        "id": "H_HGBaGgj2l4"
      },
      "source": [
        "Reemplazar Outliers"
      ]
    },
    {
      "cell_type": "code",
      "execution_count": null,
      "metadata": {
        "colab": {
          "base_uri": "https://localhost:8080/"
        },
        "id": "6__dy-Gcj49R",
        "outputId": "6346eb3d-cded-455b-9a43-da751856bcc4"
      },
      "outputs": [
        {
          "output_type": "stream",
          "name": "stdout",
          "text": [
            "Límite superior permitido _version                             1.000000\n",
            "_index                               0.000000\n",
            "_latitude                           19.118961\n",
            "_longitude                         -98.181767\n",
            "_created_duration                    0.000000\n",
            "_updated_duration                  177.250000\n",
            "_edited_duration                   172.000000\n",
            "number_of_customers_in_store         5.000000\n",
            "number_of_suppliers_in_store         3.500000\n",
            "number_of_cases_boxes_delivered     12.000000\n",
            "dtype: float64\n",
            "Límite inferior permitido _version                            1.000000\n",
            "_index                              0.000000\n",
            "_latitude                          18.935810\n",
            "_longitude                        -98.319111\n",
            "_created_duration                   0.000000\n",
            "_updated_duration                 -40.750000\n",
            "_edited_duration                  -32.000000\n",
            "number_of_customers_in_store       -3.000000\n",
            "number_of_suppliers_in_store       -0.500000\n",
            "number_of_cases_boxes_delivered    -4.000000\n",
            "dtype: float64\n"
          ]
        }
      ],
      "source": [
        "# Método aplicando cuantiles. Encuentro cuartiles 0.25 y 0.75\n",
        "y=data\n",
        "\n",
        "percentile25=y.quantile(0.25)\n",
        "percentile75=y.quantile(0.75)\n",
        "iqr=percentile75 - percentile25\n",
        "\n",
        "Limite_Superior_iqr=percentile75 + 1.5*iqr\n",
        "Limite_Inferior_iqr=percentile25 - 1.5*iqr\n",
        "print('Límite superior permitido', Limite_Superior_iqr)\n",
        "print('Límite inferior permitido', Limite_Inferior_iqr)"
      ]
    },
    {
      "cell_type": "code",
      "execution_count": null,
      "metadata": {
        "id": "0RE4jYslkEc_"
      },
      "outputs": [],
      "source": [
        "# Encontramos outliers del DataFrame\n",
        "outliers_iqr=data[(y>Limite_Superior_iqr) | (y<Limite_Inferior_iqr)]\n",
        "outliers_iqr"
      ]
    },
    {
      "cell_type": "code",
      "execution_count": null,
      "metadata": {
        "id": "-niGcheZkLX3"
      },
      "outputs": [],
      "source": [
        "# Obtenemos datos limpios del DataFrame\n",
        "data3_iqr=data[(y<=Limite_Superior_iqr) | (y>=Limite_Inferior_iqr)]\n",
        "data3_iqr"
      ]
    },
    {
      "cell_type": "code",
      "execution_count": null,
      "metadata": {
        "id": "RInhHK9IkUBH"
      },
      "outputs": [],
      "source": [
        "# Eliminamos columnas innecesarias\n",
        "data4_iqr=data3_iqr.drop(['_child_record_id','_record_id','_parent_id','_title','_created_at','_updated_at','_created_by','_updated_by','_geometry','_changeset_id','name_of_the_store','entering_the_store','picture_cargo_being_delivered','picture_cargo_being_delivered_captions','picture_cargo_being_delivered_urls','trolley_in_use','leaving_the_store'],axis=1)\n",
        "data4_iqr"
      ]
    },
    {
      "cell_type": "code",
      "execution_count": null,
      "metadata": {
        "id": "W-HbwtwklvIs"
      },
      "outputs": [],
      "source": [
        "# Corroboramos valores nulos del dataframe LIMPIO\n",
        "valores_nulos=data4_iqr.isnull().sum()\n",
        "valores_nulos"
      ]
    },
    {
      "cell_type": "code",
      "execution_count": null,
      "metadata": {
        "id": "R2EcvbrMlz6z"
      },
      "outputs": [],
      "source": [
        "# Reemplazamos valores atipicos (nulos) del dataframe con \"mean\"\n",
        "data5_iqr=data4_iqr.copy()\n",
        "data5_iqr=data5_iqr.fillna(round(data4_iqr.mean(),1))\n",
        "data5_iqr"
      ]
    },
    {
      "cell_type": "code",
      "execution_count": null,
      "metadata": {
        "id": "ErU5vtLcmAvi"
      },
      "outputs": [],
      "source": [
        "# Unimos\n",
        "strings=data[['_child_record_id','_record_id','_parent_id','_title','_created_at','_updated_at','_created_by','_updated_by','_geometry','_changeset_id','name_of_the_store','entering_the_store','picture_cargo_being_delivered','picture_cargo_being_delivered_captions','picture_cargo_being_delivered_urls','trolley_in_use','leaving_the_store']]\n",
        "Datos_limpios=pd.concat([strings, data], axis=1)\n",
        "Datos_limpios"
      ]
    },
    {
      "cell_type": "code",
      "execution_count": null,
      "metadata": {
        "id": "YhjE5olOmP1Q",
        "colab": {
          "base_uri": "https://localhost:8080/"
        },
        "outputId": "7e1126cb-8995-48c9-cb35-949db263e1c8"
      },
      "outputs": [
        {
          "output_type": "execute_result",
          "data": {
            "text/plain": [
              "_child_record_id                          0\n",
              "_record_id                                0\n",
              "_parent_id                                0\n",
              "_title                                    0\n",
              "_created_at                               0\n",
              "_updated_at                               0\n",
              "_created_by                               0\n",
              "_updated_by                               0\n",
              "_geometry                                 0\n",
              "_changeset_id                             0\n",
              "name_of_the_store                         0\n",
              "entering_the_store                        0\n",
              "picture_cargo_being_delivered             0\n",
              "picture_cargo_being_delivered_captions    0\n",
              "picture_cargo_being_delivered_urls        0\n",
              "trolley_in_use                            0\n",
              "leaving_the_store                         0\n",
              "_child_record_id                          0\n",
              "_record_id                                0\n",
              "_parent_id                                0\n",
              "_title                                    0\n",
              "_version                                  0\n",
              "_created_at                               0\n",
              "_updated_at                               0\n",
              "_created_by                               0\n",
              "_updated_by                               0\n",
              "_index                                    0\n",
              "_geometry                                 0\n",
              "_latitude                                 0\n",
              "_longitude                                0\n",
              "_changeset_id                             0\n",
              "_created_duration                         0\n",
              "_updated_duration                         0\n",
              "_edited_duration                          0\n",
              "name_of_the_store                         0\n",
              "entering_the_store                        0\n",
              "number_of_customers_in_store              0\n",
              "number_of_suppliers_in_store              0\n",
              "picture_cargo_being_delivered             0\n",
              "picture_cargo_being_delivered_captions    0\n",
              "picture_cargo_being_delivered_urls        0\n",
              "number_of_cases_boxes_delivered           0\n",
              "trolley_in_use                            0\n",
              "leaving_the_store                         0\n",
              "dtype: int64"
            ]
          },
          "metadata": {},
          "execution_count": 16
        }
      ],
      "source": [
        "# Corroboramos valores nulos\n",
        "valores_nulos=Datos_limpios.isnull().sum()\n",
        "valores_nulos"
      ]
    },
    {
      "cell_type": "code",
      "execution_count": null,
      "metadata": {
        "colab": {
          "background_save": true
        },
        "id": "MigjPbxImbop"
      },
      "outputs": [],
      "source": [
        "# Convertir DataFrame a csv\n",
        "Datos_limpios.to_csv('Datos_limpios_LastMile1.csv')"
      ]
    },
    {
      "cell_type": "code",
      "execution_count": null,
      "metadata": {
        "id": "kECc7DvGmezE"
      },
      "outputs": [],
      "source": [
        "# Descargar archivo\n",
        "from google.colab import files\n",
        "files.download('Datos_limpios_LastMile1.csv')"
      ]
    }
  ],
  "metadata": {
    "colab": {
      "provenance": [],
      "authorship_tag": "ABX9TyOQ1+gfwLvwihpZeIqgmLBA",
      "include_colab_link": true
    },
    "kernelspec": {
      "display_name": "Python 3",
      "name": "python3"
    },
    "language_info": {
      "name": "python"
    }
  },
  "nbformat": 4,
  "nbformat_minor": 0
}