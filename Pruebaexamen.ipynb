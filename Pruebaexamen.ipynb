{
  "cells": [
    {
      "cell_type": "markdown",
      "metadata": {
        "id": "view-in-github",
        "colab_type": "text"
      },
      "source": [
        "<a href=\"https://colab.research.google.com/github/DrabberSP/Examen-1/blob/main/Pruebaexamen.ipynb\" target=\"_parent\"><img src=\"https://colab.research.google.com/assets/colab-badge.svg\" alt=\"Open In Colab\"/></a>"
      ]
    },
    {
      "cell_type": "code",
      "execution_count": null,
      "metadata": {
        "id": "XBbq5LasZxBh"
      },
      "outputs": [],
      "source": [
        "# Importamos las librerias\n",
        "import pandas as pd\n",
        "import numpy as np\n",
        "import matplotlib.pyplot as plt"
      ]
    },
    {
      "cell_type": "code",
      "execution_count": null,
      "metadata": {
        "id": "Rnx1kCBsaI7u"
      },
      "outputs": [],
      "source": [
        "# Cargar archivo desde equipo\n",
        "from google.colab import files\n",
        "files.upload()"
      ]
    },
    {
      "cell_type": "code",
      "execution_count": null,
      "metadata": {
        "id": "12roupPhaLyu"
      },
      "outputs": [],
      "source": [
        "# Cargar archivo .xlsx desde equipo\n",
        "Consumer=pd.read_excel('consumer_mit_lift_lab.xlsx')"
      ]
    },
    {
      "cell_type": "code",
      "execution_count": null,
      "metadata": {
        "colab": {
          "base_uri": "https://localhost:8080/"
        },
        "id": "eNXhzaSMs8TQ",
        "outputId": "0b70887d-03f9-4add-ac5f-a37799b502ff"
      },
      "outputs": [
        {
          "name": "stdout",
          "output_type": "stream",
          "text": [
            "<class 'pandas.core.frame.DataFrame'>\n",
            "RangeIndex: 115 entries, 0 to 114\n",
            "Data columns (total 36 columns):\n",
            " #   Column                                    Non-Null Count  Dtype  \n",
            "---  ------                                    --------------  -----  \n",
            " 0   _record_id                                115 non-null    object \n",
            " 1   _title                                    115 non-null    object \n",
            " 2   _server_updated_at                        115 non-null    object \n",
            " 3   _updated_by                               115 non-null    object \n",
            " 4   _geometry                                 115 non-null    object \n",
            " 5   _latitude                                 115 non-null    float64\n",
            " 6   _longitude                                115 non-null    float64\n",
            " 7   282_payment_method_that_purchase          115 non-null    object \n",
            " 8   283_fulfill_needs                         115 non-null    object \n",
            " 9   300_did_not_find                          6 non-null      object \n",
            " 10  237_distance_household_interviewee        115 non-null    object \n",
            " 11  299_means_transportation_consumer         115 non-null    object \n",
            " 12  238_frequency_buying_store                115 non-null    int64  \n",
            " 13  284_additional_products_store             4 non-null      object \n",
            " 14  301_electricity_bill                      115 non-null    object \n",
            " 15  305_electricity_bill_store                108 non-null    object \n",
            " 16  302_water_bill                            115 non-null    object \n",
            " 17  306_water_bill_store                      111 non-null    object \n",
            " 18  303_gas_bill                              115 non-null    object \n",
            " 19  307_gas_bill_store                        112 non-null    object \n",
            " 20  286_topups                                115 non-null    object \n",
            " 21  308_topups_in_store                       103 non-null    object \n",
            " 22  287_wire_transfers                        115 non-null    object \n",
            " 23  309_wiretransfers_in_store                113 non-null    object \n",
            " 24  320_other_services_in_store               115 non-null    object \n",
            " 25  304_additional_services_store             29 non-null     object \n",
            " 26  81_number_online_purchases_month          115 non-null    int64  \n",
            " 27  288_number_app_purchases_month            115 non-null    int64  \n",
            " 28  289_number_whatsapp_purchases_month       115 non-null    int64  \n",
            " 29  83_willingness_ultrafast_delivery         115 non-null    int64  \n",
            " 30  84_willingness_sameday_delivery           115 non-null    int64  \n",
            " 31  241_age_of_the_interviewee                115 non-null    int64  \n",
            " 32  240_gender_interviewee                    115 non-null    object \n",
            " 33  indicate_the_type_of_store                115 non-null    object \n",
            " 34  name_of_the_store                         115 non-null    object \n",
            " 35  storefront_picture_just_once_if_possible  104 non-null    object \n",
            "dtypes: float64(2), int64(7), object(27)\n",
            "memory usage: 32.5+ KB\n"
          ]
        }
      ],
      "source": [
        "# Obtenemos la información del DataFrame\n",
        "Consumer.info()"
      ]
    },
    {
      "cell_type": "code",
      "execution_count": null,
      "metadata": {
        "colab": {
          "base_uri": "https://localhost:8080/"
        },
        "id": "Ck0Pj_pUsqbL",
        "outputId": "7396d4ad-af02-417d-b433-d48b3967cb15"
      },
      "outputs": [
        {
          "data": {
            "text/plain": [
              "_record_id                                    0\n",
              "_title                                        0\n",
              "_server_updated_at                            0\n",
              "_updated_by                                   0\n",
              "_geometry                                     0\n",
              "_latitude                                     0\n",
              "_longitude                                    0\n",
              "282_payment_method_that_purchase              0\n",
              "283_fulfill_needs                             0\n",
              "300_did_not_find                            109\n",
              "237_distance_household_interviewee            0\n",
              "299_means_transportation_consumer             0\n",
              "238_frequency_buying_store                    0\n",
              "284_additional_products_store               111\n",
              "301_electricity_bill                          0\n",
              "305_electricity_bill_store                    7\n",
              "302_water_bill                                0\n",
              "306_water_bill_store                          4\n",
              "303_gas_bill                                  0\n",
              "307_gas_bill_store                            3\n",
              "286_topups                                    0\n",
              "308_topups_in_store                          12\n",
              "287_wire_transfers                            0\n",
              "309_wiretransfers_in_store                    2\n",
              "320_other_services_in_store                   0\n",
              "304_additional_services_store                86\n",
              "81_number_online_purchases_month              0\n",
              "288_number_app_purchases_month                0\n",
              "289_number_whatsapp_purchases_month           0\n",
              "83_willingness_ultrafast_delivery             0\n",
              "84_willingness_sameday_delivery               0\n",
              "241_age_of_the_interviewee                    0\n",
              "240_gender_interviewee                        0\n",
              "indicate_the_type_of_store                    0\n",
              "name_of_the_store                             0\n",
              "storefront_picture_just_once_if_possible     11\n",
              "dtype: int64"
            ]
          },
          "execution_count": 6,
          "metadata": {},
          "output_type": "execute_result"
        }
      ],
      "source": [
        "# Identificamos los valores nulos por columna\n",
        "valores_nulos=Consumer.isnull().sum()\n",
        "valores_nulos"
      ]
    },
    {
      "cell_type": "markdown",
      "metadata": {
        "id": "oSzJzyGE-FrL"
      },
      "source": [
        "Reemplazar valores nulos del archivo"
      ]
    },
    {
      "cell_type": "code",
      "execution_count": null,
      "metadata": {
        "id": "mZbtmhbo__b4"
      },
      "outputs": [],
      "source": [
        "# Sustituir valores nulos por un string , en este caso para las columnas: 300_did_not_find, 284_additional_products_store\n",
        "data['300_did_not_find']=data['300_did_not_find'].fillna('Se encontró todo')\n",
        "data['284_additional_products_store']=data['284_additional_products_store'].fillna('No quiere otro producto')"
      ]
    },
    {
      "cell_type": "code",
      "execution_count": null,
      "metadata": {
        "id": "eS12NvryKJqw"
      },
      "outputs": [],
      "source": [
        "# Corroboramos valores nulos\n",
        "valores_nulos=data.isnull().sum()\n",
        "valores_nulos"
      ]
    },
    {
      "cell_type": "code",
      "execution_count": null,
      "metadata": {
        "id": "kd2jTxm2KjZv"
      },
      "outputs": [],
      "source": [
        "# Sustituir valores nulos hacia adelante, en este caso para las columnas: 305_electricity_bill_store, 306_water_bill_store\n",
        "data['305_electricity_bill_store']=data['305_electricity_bill_store'].fillna(method=\"ffill\")\n",
        "data['306_water_bill_store']=data['306_water_bill_store'].fillna(method=\"ffill\")"
      ]
    },
    {
      "cell_type": "code",
      "execution_count": null,
      "metadata": {
        "id": "85MRTwLdLUgd"
      },
      "outputs": [],
      "source": [
        "# Corroboramos valores nulos\n",
        "valores_nulos=data.isnull().sum()\n",
        "valores_nulos"
      ]
    },
    {
      "cell_type": "code",
      "execution_count": null,
      "metadata": {
        "id": "es9Hv6EGLjLy"
      },
      "outputs": [],
      "source": [
        "# Sustituir valores nulos hacia atrás, en este caso para las columnas: 307_gas_bill_store, 308_topups_in_store\n",
        "data['307_gas_bill_store']=data['307_gas_bill_store'].fillna(method=\"bfill\")\n",
        "data['308_topups_in_store']=data['308_topups_in_store'].fillna(method=\"bfill\")"
      ]
    },
    {
      "cell_type": "code",
      "execution_count": null,
      "metadata": {
        "id": "bTRg3LBuL3Sv"
      },
      "outputs": [],
      "source": [
        "# Corroboramos valores nulos\n",
        "valores_nulos=data.isnull().sum()\n",
        "valores_nulos"
      ]
    },
    {
      "cell_type": "code",
      "execution_count": null,
      "metadata": {
        "id": "stHAPwXlMDmn"
      },
      "outputs": [],
      "source": [
        "# Sustituir valores nulos hacia adelante: 309_wiretransfers_in_store, 304_additional_services_store\n",
        "data['309_wiretransfers_in_store']=data['309_wiretransfers_in_store'].fillna(method=\"ffill\")\n",
        "data['304_additional_services_store']=data['304_additional_services_store'].fillna(method=\"ffill\")"
      ]
    },
    {
      "cell_type": "code",
      "execution_count": null,
      "metadata": {
        "id": "1EST0eRFMYoE"
      },
      "outputs": [],
      "source": [
        "# Corroboramos valores nulos\n",
        "valores_nulos=data.isnull().sum()\n",
        "valores_nulos"
      ]
    },
    {
      "cell_type": "code",
      "execution_count": null,
      "metadata": {
        "id": "fUy9IhZeMgAS"
      },
      "outputs": [],
      "source": [
        "# Sustituir valores nulos por un string: \n",
        "data['304_additional_services_store']=data['304_additional_services_store'].fillna('No hay servicio adicional')\n",
        "data['storefront_picture_just_once_if_possible']=data['storefront_picture_just_once_if_possible'].fillna('No hay foto')"
      ]
    },
    {
      "cell_type": "code",
      "execution_count": null,
      "metadata": {
        "colab": {
          "base_uri": "https://localhost:8080/"
        },
        "id": "r0aGQGaqM2pw",
        "outputId": "92df8a33-18d4-4f8e-d6d7-998aacd86bd4"
      },
      "outputs": [
        {
          "data": {
            "text/plain": [
              "_record_id                                  0\n",
              "_title                                      0\n",
              "_server_updated_at                          0\n",
              "_updated_by                                 0\n",
              "_geometry                                   0\n",
              "_latitude                                   0\n",
              "_longitude                                  0\n",
              "282_payment_method_that_purchase            0\n",
              "283_fulfill_needs                           0\n",
              "300_did_not_find                            0\n",
              "237_distance_household_interviewee          0\n",
              "299_means_transportation_consumer           0\n",
              "238_frequency_buying_store                  0\n",
              "284_additional_products_store               0\n",
              "301_electricity_bill                        0\n",
              "305_electricity_bill_store                  0\n",
              "302_water_bill                              0\n",
              "306_water_bill_store                        0\n",
              "303_gas_bill                                0\n",
              "307_gas_bill_store                          0\n",
              "286_topups                                  0\n",
              "308_topups_in_store                         0\n",
              "287_wire_transfers                          0\n",
              "309_wiretransfers_in_store                  0\n",
              "320_other_services_in_store                 0\n",
              "304_additional_services_store               0\n",
              "81_number_online_purchases_month            0\n",
              "288_number_app_purchases_month              0\n",
              "289_number_whatsapp_purchases_month         0\n",
              "83_willingness_ultrafast_delivery           0\n",
              "84_willingness_sameday_delivery             0\n",
              "241_age_of_the_interviewee                  0\n",
              "240_gender_interviewee                      0\n",
              "indicate_the_type_of_store                  0\n",
              "name_of_the_store                           0\n",
              "storefront_picture_just_once_if_possible    0\n",
              "dtype: int64"
            ]
          },
          "execution_count": 25,
          "metadata": {},
          "output_type": "execute_result"
        }
      ],
      "source": [
        "# Corroboramos valores nulos\n",
        "valores_nulos=data.isnull().sum()\n",
        "valores_nulos"
      ]
    },
    {
      "cell_type": "code",
      "execution_count": null,
      "metadata": {
        "colab": {
          "base_uri": "https://localhost:8080/"
        },
        "id": "Xfn4VPRJNArT",
        "outputId": "b1970a43-9193-4b3e-e77f-96d3abbb3fc9"
      },
      "outputs": [
        {
          "data": {
            "text/plain": [
              "0"
            ]
          },
          "execution_count": 26,
          "metadata": {},
          "output_type": "execute_result"
        }
      ],
      "source": [
        "# Corroboramos valores nulos en todo el data frame\n",
        "valores_nulos=data.isnull().sum().sum()\n",
        "valores_nulos"
      ]
    },
    {
      "cell_type": "markdown",
      "metadata": {
        "id": "i3gElKxeNQf5"
      },
      "source": [
        "Reemplazar Outliers del DataFrame"
      ]
    },
    {
      "cell_type": "code",
      "execution_count": null,
      "metadata": {
        "colab": {
          "background_save": true,
          "base_uri": "https://localhost:8080/"
        },
        "id": "yImjoOOQNUFa",
        "outputId": "dc0e7aed-2aea-4f24-ccac-238325ca4719"
      },
      "outputs": [
        {
          "name": "stdout",
          "output_type": "stream",
          "text": [
            "Límite superior permitido _latitude                               19.137956\n",
            "_longitude                             -98.025979\n",
            "238_frequency_buying_store               6.000000\n",
            "81_number_online_purchases_month         6.000000\n",
            "288_number_app_purchases_month          12.500000\n",
            "289_number_whatsapp_purchases_month      2.500000\n",
            "83_willingness_ultrafast_delivery      102.500000\n",
            "84_willingness_sameday_delivery        231.250000\n",
            "241_age_of_the_interviewee              65.000000\n",
            "dtype: float64\n",
            "Límite inferior permitido _latitude                               18.959124\n",
            "_longitude                             -98.402770\n",
            "238_frequency_buying_store              -2.000000\n",
            "81_number_online_purchases_month        -2.000000\n",
            "288_number_app_purchases_month          -7.500000\n",
            "289_number_whatsapp_purchases_month     -1.500000\n",
            "83_willingness_ultrafast_delivery      -37.500000\n",
            "84_willingness_sameday_delivery       -118.750000\n",
            "241_age_of_the_interviewee              -7.000000\n",
            "dtype: float64\n"
          ]
        }
      ],
      "source": [
        "# Método aplicando cuantiles. Encuentro cuartiles 0.25 y 0.75\n",
        "y=data\n",
        "\n",
        "percentile25=y.quantile(0.25)\n",
        "percentile75=y.quantile(0.75)\n",
        "iqr=percentile75 - percentile25\n",
        "\n",
        "Limite_Superior_iqr=percentile75 + 1.5*iqr\n",
        "Limite_Inferior_iqr=percentile25 - 1.5*iqr\n",
        "print('Límite superior permitido', Limite_Superior_iqr)\n",
        "print('Límite inferior permitido', Limite_Inferior_iqr)"
      ]
    },
    {
      "cell_type": "code",
      "execution_count": null,
      "metadata": {
        "id": "-gjMCfYYOCK4"
      },
      "outputs": [],
      "source": [
        "# Encontramos outliers del DataFrame\n",
        "outliers_iqr=data[(y>Limite_Superior_iqr) | (y<Limite_Inferior_iqr)]\n",
        "outliers_iqr"
      ]
    },
    {
      "cell_type": "code",
      "execution_count": null,
      "metadata": {
        "id": "kFwluXMVOOfb"
      },
      "outputs": [],
      "source": [
        "# Obtenemos datos limpios del DataFrame\n",
        "data2_iqr=data[(y<=Limite_Superior_iqr) | (y>=Limite_Inferior_iqr)]\n",
        "data2_iqr"
      ]
    },
    {
      "cell_type": "code",
      "execution_count": null,
      "metadata": {
        "id": "iRFG7Wd4OocF"
      },
      "outputs": [],
      "source": [
        "# Eliminamos columnas innecesarias\n",
        "data3_iqr=data2_iqr.drop(['_record_id','_title','_server_updated_at','_updated_by','_geometry','282_payment_method_that_purchase','283_fulfill_needs','300_did_not_find','237_distance_household_interviewee','299_means_transportation_consumer','284_additional_products_store','301_electricity_bill','305_electricity_bill_store','302_water_bill','306_water_bill_store','303_gas_bill','307_gas_bill_store','286_topups','308_topups_in_store','287_wire_transfers','309_wiretransfers_in_store','320_other_services_in_store','304_additional_services_store','240_gender_interviewee','indicate_the_type_of_store','name_of_the_store','storefront_picture_just_once_if_possible'],axis=1)\n",
        "data3_iqr"
      ]
    },
    {
      "cell_type": "code",
      "execution_count": null,
      "metadata": {
        "id": "QSrQeKivolcp"
      },
      "outputs": [],
      "source": [
        "# Corroboramos valores nulos del dataframe LIMPIO\n",
        "valores_nulos=data3_iqr.isnull().sum()\n",
        "valores_nulos"
      ]
    },
    {
      "cell_type": "code",
      "execution_count": null,
      "metadata": {
        "id": "i6bDQM5xoswT"
      },
      "outputs": [],
      "source": [
        "# Reemplazamos valores atipicos (nulos) del dataframe con \"mean\"\n",
        "data4_iqr=data3_iqr.copy()\n",
        "data4_iqr=data4_iqr.fillna(round(data3_iqr.mean(),1))\n",
        "data4_iqr"
      ]
    },
    {
      "cell_type": "code",
      "execution_count": null,
      "metadata": {
        "id": "t9sYaB4Xo76O"
      },
      "outputs": [],
      "source": [
        "# Unimos las columnas\n",
        "strings=data[['_record_id','_title','_server_updated_at','_updated_by','_geometry','282_payment_method_that_purchase','283_fulfill_needs','300_did_not_find','237_distance_household_interviewee','299_means_transportation_consumer','284_additional_products_store','301_electricity_bill','305_electricity_bill_store','302_water_bill','306_water_bill_store','303_gas_bill','307_gas_bill_store','286_topups','308_topups_in_store','287_wire_transfers','309_wiretransfers_in_store','320_other_services_in_store','304_additional_services_store','240_gender_interviewee','indicate_the_type_of_store','name_of_the_store','storefront_picture_just_once_if_possible']]\n",
        "Datos_limpios=pd.concat([strings, data], axis=1)\n",
        "Datos_limpios"
      ]
    },
    {
      "cell_type": "code",
      "execution_count": null,
      "metadata": {
        "colab": {
          "base_uri": "https://localhost:8080/"
        },
        "id": "IBalgol4pIqh",
        "outputId": "d2a88b54-0be0-4a01-e227-15fa1fe916d2"
      },
      "outputs": [
        {
          "data": {
            "text/plain": [
              "_record_id                                  0\n",
              "_title                                      0\n",
              "_server_updated_at                          0\n",
              "_updated_by                                 0\n",
              "_geometry                                   0\n",
              "                                           ..\n",
              "241_age_of_the_interviewee                  0\n",
              "240_gender_interviewee                      0\n",
              "indicate_the_type_of_store                  0\n",
              "name_of_the_store                           0\n",
              "storefront_picture_just_once_if_possible    0\n",
              "Length: 63, dtype: int64"
            ]
          },
          "execution_count": 34,
          "metadata": {},
          "output_type": "execute_result"
        }
      ],
      "source": [
        "# Corroboramos valores nulos\n",
        "valores_nulos=Datos_limpios.isnull().sum()\n",
        "valores_nulos"
      ]
    },
    {
      "cell_type": "code",
      "execution_count": null,
      "metadata": {
        "id": "1_7AurItpQ3R"
      },
      "outputs": [],
      "source": [
        "# Convertir DataFrame a csv\n",
        "Datos_limpios.to_csv('Datos_costumer.csv')"
      ]
    },
    {
      "cell_type": "code",
      "execution_count": null,
      "metadata": {
        "colab": {
          "base_uri": "https://localhost:8080/",
          "height": 17
        },
        "id": "b9Vjmk9-pW16",
        "outputId": "b95f1e38-c1b9-4087-d218-bef2b5f6a396"
      },
      "outputs": [
        {
          "data": {
            "application/javascript": [
              "\n",
              "    async function download(id, filename, size) {\n",
              "      if (!google.colab.kernel.accessAllowed) {\n",
              "        return;\n",
              "      }\n",
              "      const div = document.createElement('div');\n",
              "      const label = document.createElement('label');\n",
              "      label.textContent = `Downloading \"${filename}\": `;\n",
              "      div.appendChild(label);\n",
              "      const progress = document.createElement('progress');\n",
              "      progress.max = size;\n",
              "      div.appendChild(progress);\n",
              "      document.body.appendChild(div);\n",
              "\n",
              "      const buffers = [];\n",
              "      let downloaded = 0;\n",
              "\n",
              "      const channel = await google.colab.kernel.comms.open(id);\n",
              "      // Send a message to notify the kernel that we're ready.\n",
              "      channel.send({})\n",
              "\n",
              "      for await (const message of channel.messages) {\n",
              "        // Send a message to notify the kernel that we're ready.\n",
              "        channel.send({})\n",
              "        if (message.buffers) {\n",
              "          for (const buffer of message.buffers) {\n",
              "            buffers.push(buffer);\n",
              "            downloaded += buffer.byteLength;\n",
              "            progress.value = downloaded;\n",
              "          }\n",
              "        }\n",
              "      }\n",
              "      const blob = new Blob(buffers, {type: 'application/binary'});\n",
              "      const a = document.createElement('a');\n",
              "      a.href = window.URL.createObjectURL(blob);\n",
              "      a.download = filename;\n",
              "      div.appendChild(a);\n",
              "      a.click();\n",
              "      div.remove();\n",
              "    }\n",
              "  "
            ],
            "text/plain": [
              "<IPython.core.display.Javascript object>"
            ]
          },
          "metadata": {},
          "output_type": "display_data"
        },
        {
          "data": {
            "application/javascript": [
              "download(\"download_63d5b05c-5279-45f2-adcb-27f6ec452a6e\", \"Datos_costumer.csv\", 107468)"
            ],
            "text/plain": [
              "<IPython.core.display.Javascript object>"
            ]
          },
          "metadata": {},
          "output_type": "display_data"
        }
      ],
      "source": [
        "# Descargar archivo\n",
        "from google.colab import files\n",
        "files.download('Datos_costumer.csv')"
      ]
    }
  ],
  "metadata": {
    "colab": {
      "provenance": [],
      "authorship_tag": "ABX9TyPAzDLwejqHdENAkPMMG9On",
      "include_colab_link": true
    },
    "kernelspec": {
      "display_name": "Python 3",
      "name": "python3"
    },
    "language_info": {
      "name": "python"
    }
  },
  "nbformat": 4,
  "nbformat_minor": 0
}