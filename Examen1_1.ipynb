{
  "nbformat": 4,
  "nbformat_minor": 0,
  "metadata": {
    "colab": {
      "provenance": [],
      "authorship_tag": "ABX9TyPlCl0AYu5YRWAZ+zxXtbXq",
      "include_colab_link": true
    },
    "kernelspec": {
      "name": "python3",
      "display_name": "Python 3"
    },
    "language_info": {
      "name": "python"
    }
  },
  "cells": [
    {
      "cell_type": "markdown",
      "metadata": {
        "id": "view-in-github",
        "colab_type": "text"
      },
      "source": [
        "<a href=\"https://colab.research.google.com/github/DrabberSP/Examen-1/blob/main/Examen1_1.ipynb\" target=\"_parent\"><img src=\"https://colab.research.google.com/assets/colab-badge.svg\" alt=\"Open In Colab\"/></a>"
      ]
    },
    {
      "cell_type": "markdown",
      "source": [
        "Para el archivo: microretailer_mit_lift_lab.xlsx"
      ],
      "metadata": {
        "id": "eiZhYsMcpzrs"
      }
    },
    {
      "cell_type": "code",
      "execution_count": null,
      "metadata": {
        "id": "dmLkQ2gjRaTb"
      },
      "outputs": [],
      "source": [
        "# Importamos las librerias\n",
        "import pandas as pd\n",
        "import numpy as np\n",
        "import matplotlib.pyplot as plt"
      ]
    },
    {
      "cell_type": "code",
      "source": [
        "# Cargar archivo xlsx desde equipo\n",
        "from google.colab import files\n",
        "files.upload()"
      ],
      "metadata": {
        "id": "wInm2pcjRvC4"
      },
      "execution_count": null,
      "outputs": []
    },
    {
      "cell_type": "code",
      "source": [
        "# Cargar archivo .xlsx desde equipo\n",
        "MRetailer=pd.read_excel('microretailer_mit_lift_lab.xlsx')"
      ],
      "metadata": {
        "id": "zDmMTqCmR5oK"
      },
      "execution_count": null,
      "outputs": []
    },
    {
      "cell_type": "code",
      "source": [
        "# Obtenemos información del archivo\n",
        "MRetailer.info()"
      ],
      "metadata": {
        "colab": {
          "base_uri": "https://localhost:8080/"
        },
        "id": "qBobhT3HSF8c",
        "outputId": "5b44f65a-bf88-4dc2-ea95-b9aa951b1692"
      },
      "execution_count": 47,
      "outputs": [
        {
          "output_type": "stream",
          "name": "stdout",
          "text": [
            "<class 'pandas.core.frame.DataFrame'>\n",
            "RangeIndex: 171 entries, 0 to 170\n",
            "Columns: 106 entries, _record_id to 235_email\n",
            "dtypes: float64(23), int64(2), object(81)\n",
            "memory usage: 141.7+ KB\n"
          ]
        }
      ]
    },
    {
      "cell_type": "code",
      "source": [
        "# Identificar valores nulos por columna\n",
        "valores_nulos=MRetailer.isnull().sum()\n",
        "valores_nulos"
      ],
      "metadata": {
        "colab": {
          "base_uri": "https://localhost:8080/"
        },
        "id": "5cZAAW8CSOI6",
        "outputId": "ddef8f8b-0a1f-443c-8e7d-57acc4dd5254"
      },
      "execution_count": 48,
      "outputs": [
        {
          "output_type": "execute_result",
          "data": {
            "text/plain": [
              "_record_id                                0\n",
              "_title                                    0\n",
              "_server_updated_at                        0\n",
              "_updated_by                               0\n",
              "_geometry                                 0\n",
              "                                       ... \n",
              "234_willingness_participate_workshop     73\n",
              "318_shopkeeper_name                     123\n",
              "319_shopkeepers_last_name               125\n",
              "236_whatsapp                            129\n",
              "235_email                               142\n",
              "Length: 106, dtype: int64"
            ]
          },
          "metadata": {},
          "execution_count": 48
        }
      ]
    },
    {
      "cell_type": "code",
      "source": [
        "# Realizamos una copia del dataframe\n",
        "Retailers_Nulos=MRetailer.copy()\n",
        "# Reemplazamos valores nulos\n",
        "Retailers_Nulos=Retailers_Nulos.fillna(method='bfill')\n",
        "Retailers_Nulos"
      ],
      "metadata": {
        "id": "Fdh2r3uAqzk6"
      },
      "execution_count": null,
      "outputs": []
    },
    {
      "cell_type": "code",
      "source": [
        "# Identificar valores nulos de todo el dataframe\n",
        "valores_nulos=Retailers_Nulos.isnull().sum().sum()\n",
        "valores_nulos"
      ],
      "metadata": {
        "colab": {
          "base_uri": "https://localhost:8080/"
        },
        "id": "UnJkBGNJXzb8",
        "outputId": "4460847f-86dc-4744-d338-cec327cc7b8a"
      },
      "execution_count": 50,
      "outputs": [
        {
          "output_type": "execute_result",
          "data": {
            "text/plain": [
              "1688"
            ]
          },
          "metadata": {},
          "execution_count": 50
        }
      ]
    },
    {
      "cell_type": "code",
      "source": [
        "# Copia del dataframe para elimnar más valores nulos\n",
        "Retailers_N1=Retailers_Nulos.copy()\n",
        "Retailers_N1=Retailers_Nulos.fillna(method='ffill')\n",
        "Retailers_N1"
      ],
      "metadata": {
        "id": "YBbLJvSaYK7P"
      },
      "execution_count": null,
      "outputs": []
    },
    {
      "cell_type": "code",
      "source": [
        "# Identificar valores nulos de todo el dataframe\n",
        "valores_nulos=Retailers_N1.isnull().sum().sum()\n",
        "valores_nulos"
      ],
      "metadata": {
        "colab": {
          "base_uri": "https://localhost:8080/"
        },
        "id": "5D84KnzQYk7s",
        "outputId": "45e1cf59-cc12-418f-8c4d-e2edde92dada"
      },
      "execution_count": 52,
      "outputs": [
        {
          "output_type": "execute_result",
          "data": {
            "text/plain": [
              "684"
            ]
          },
          "metadata": {},
          "execution_count": 52
        }
      ]
    },
    {
      "cell_type": "code",
      "source": [
        "# Cambiamos los valores nulos faltantes por un string, ya que son celdas completamente en blanco\n",
        "Retailers_N2=Retailers_N1.fillna(\"No respondió\")\n",
        "Retailers_N2"
      ],
      "metadata": {
        "id": "KBnNKqCOYuNm"
      },
      "execution_count": null,
      "outputs": []
    },
    {
      "cell_type": "code",
      "source": [
        "# Identificar valores nulos de todo el dataframe\n",
        "valores_nulos=Retailers_N2.isnull().sum().sum()\n",
        "valores_nulos"
      ],
      "metadata": {
        "colab": {
          "base_uri": "https://localhost:8080/"
        },
        "id": "xIcdT0BiZOXa",
        "outputId": "5bf5d69b-b1f5-4ba5-caea-285081a58d5a"
      },
      "execution_count": 55,
      "outputs": [
        {
          "output_type": "execute_result",
          "data": {
            "text/plain": [
              "0"
            ]
          },
          "metadata": {},
          "execution_count": 55
        }
      ]
    },
    {
      "cell_type": "code",
      "source": [
        "# Convertir archivo xlsx\n",
        "Retailers_N2.to_excel(\"Retailers_Sin_Nulos.xlsx\")"
      ],
      "metadata": {
        "id": "XF5AxLBUpJyw"
      },
      "execution_count": 56,
      "outputs": []
    },
    {
      "cell_type": "code",
      "source": [
        "# Descargar archivo en xlsx\n",
        "from google.colab import files\n",
        "files.download(\"Retailers_Sin_Nulos.xlsx\")"
      ],
      "metadata": {
        "colab": {
          "base_uri": "https://localhost:8080/",
          "height": 17
        },
        "id": "YQsSodC0pT5u",
        "outputId": "90d49d23-0fd9-4f87-b1d2-c831a0208086"
      },
      "execution_count": 57,
      "outputs": [
        {
          "output_type": "display_data",
          "data": {
            "text/plain": [
              "<IPython.core.display.Javascript object>"
            ],
            "application/javascript": [
              "\n",
              "    async function download(id, filename, size) {\n",
              "      if (!google.colab.kernel.accessAllowed) {\n",
              "        return;\n",
              "      }\n",
              "      const div = document.createElement('div');\n",
              "      const label = document.createElement('label');\n",
              "      label.textContent = `Downloading \"${filename}\": `;\n",
              "      div.appendChild(label);\n",
              "      const progress = document.createElement('progress');\n",
              "      progress.max = size;\n",
              "      div.appendChild(progress);\n",
              "      document.body.appendChild(div);\n",
              "\n",
              "      const buffers = [];\n",
              "      let downloaded = 0;\n",
              "\n",
              "      const channel = await google.colab.kernel.comms.open(id);\n",
              "      // Send a message to notify the kernel that we're ready.\n",
              "      channel.send({})\n",
              "\n",
              "      for await (const message of channel.messages) {\n",
              "        // Send a message to notify the kernel that we're ready.\n",
              "        channel.send({})\n",
              "        if (message.buffers) {\n",
              "          for (const buffer of message.buffers) {\n",
              "            buffers.push(buffer);\n",
              "            downloaded += buffer.byteLength;\n",
              "            progress.value = downloaded;\n",
              "          }\n",
              "        }\n",
              "      }\n",
              "      const blob = new Blob(buffers, {type: 'application/binary'});\n",
              "      const a = document.createElement('a');\n",
              "      a.href = window.URL.createObjectURL(blob);\n",
              "      a.download = filename;\n",
              "      div.appendChild(a);\n",
              "      a.click();\n",
              "      div.remove();\n",
              "    }\n",
              "  "
            ]
          },
          "metadata": {}
        },
        {
          "output_type": "display_data",
          "data": {
            "text/plain": [
              "<IPython.core.display.Javascript object>"
            ],
            "application/javascript": [
              "download(\"download_47294c10-4332-41b2-baf4-08e46699532e\", \"Retailers_Sin_Nulos.xlsx\", 107082)"
            ]
          },
          "metadata": {}
        }
      ]
    },
    {
      "cell_type": "markdown",
      "source": [
        "Reemplazamos Outliers"
      ],
      "metadata": {
        "id": "VcOArVGccJWB"
      }
    },
    {
      "cell_type": "code",
      "source": [
        "R_Filtrado=Retailers_N2.copy()"
      ],
      "metadata": {
        "id": "ykZorFaRcMle"
      },
      "execution_count": 58,
      "outputs": []
    },
    {
      "cell_type": "code",
      "source": [
        "#Identificamos las variables no numéricas para eliminar columnas incecesarias de texto\n",
        "R_Filtrado.info(106)"
      ],
      "metadata": {
        "id": "dwkm2A-1ccFg"
      },
      "execution_count": null,
      "outputs": []
    },
    {
      "cell_type": "code",
      "source": [
        "# Filtro por columnas no consecutivas\n",
        "filtro=MRetailer.iloc[:,[13,14,16,21,22,29,31,33,42,49,51,56,57,58,59,60,78,90]] #Columnas no consecutivas\n",
        "filtro"
      ],
      "metadata": {
        "id": "5qQk-NBYdavk"
      },
      "execution_count": null,
      "outputs": []
    },
    {
      "cell_type": "markdown",
      "source": [
        "Método de Cuantiles"
      ],
      "metadata": {
        "id": "rjoJ5YiqdE7k"
      }
    },
    {
      "cell_type": "code",
      "source": [
        "#Método aplicando Cuartiles. Encuentro cuartiles 0.25 y 0.75\n",
        "y=filtro\n",
        "\n",
        "percentile25=y.quantile(0.25) #Q1\n",
        "percentile75=y.quantile(0.75) #Q3\n",
        "iqr= percentile75 - percentile25\n",
        "\n",
        "Limite_Superior_iqr= percentile75 + 1.5*iqr\n",
        "Limite_Inferior_iqr= percentile25 - 1.5*iqr\n",
        "print(\"Limite superior permitido\", Limite_Superior_iqr)\n",
        "print(\"Limite inferior permitido\", Limite_Inferior_iqr)"
      ],
      "metadata": {
        "id": "fkZw2PgudHoz"
      },
      "execution_count": null,
      "outputs": []
    },
    {
      "cell_type": "code",
      "source": [
        "#Encontramos Outliers del Dataframe\n",
        "outliers_iqr= filtro[(y>Limite_Superior_iqr)|(y<Limite_Inferior_iqr)]\n",
        "outliers_iqr"
      ],
      "metadata": {
        "id": "76ESsIl_eHNm"
      },
      "execution_count": null,
      "outputs": []
    },
    {
      "cell_type": "code",
      "source": [
        "#Obtenemos datos limpios del Dataframe\n",
        "data3_iqr= filtro[(y<=Limite_Superior_iqr)&(y>=Limite_Inferior_iqr)]\n",
        "data3_iqr"
      ],
      "metadata": {
        "id": "cad8nHDreU-C"
      },
      "execution_count": null,
      "outputs": []
    },
    {
      "cell_type": "code",
      "source": [
        "#Corroboramos valores nulos del dataframe LIMPIO\n",
        "valores_nulos=data3_iqr.isnull().sum()\n",
        "valores_nulos"
      ],
      "metadata": {
        "id": "rRMPXdndea67"
      },
      "execution_count": null,
      "outputs": []
    },
    {
      "cell_type": "code",
      "source": [
        "#Reemplazamos valores atípicos (nulos) del dataframe con \"mean\"\n",
        "#Realizamos una copia del dataframe\n",
        "data4_iqr=data3_iqr.copy()\n",
        "data4_iqr=data4_iqr.fillna(round(data3_iqr.mean(),1))\n",
        "data4_iqr"
      ],
      "metadata": {
        "id": "Yb6vC9VTejgp"
      },
      "execution_count": null,
      "outputs": []
    },
    {
      "cell_type": "code",
      "source": [
        "Retailers_Filtrado2=data4_iqr.copy()"
      ],
      "metadata": {
        "id": "bKHb0vWIelVH"
      },
      "execution_count": 66,
      "outputs": []
    },
    {
      "cell_type": "code",
      "source": [
        "#Corroboramos valores nulos del dataframe LIMPIO\n",
        "valores_nulos=data4_iqr.isnull().sum()\n",
        "valores_nulos"
      ],
      "metadata": {
        "id": "kZins23OfR54"
      },
      "execution_count": null,
      "outputs": []
    },
    {
      "cell_type": "code",
      "source": [
        "# Convertir a archivo xlsx\n",
        "Retailers_Filtrado2.to_excel(\"Retailers_Sin_Outliers.xlsx\")"
      ],
      "metadata": {
        "id": "-8zbkU3Ee7E5"
      },
      "execution_count": 68,
      "outputs": []
    },
    {
      "cell_type": "code",
      "source": [
        "#descargar archivo filtrado en xlsx\n",
        "from google.colab import files\n",
        "files.download(\"Retailers_Sin_Outliers.xlsx\")"
      ],
      "metadata": {
        "id": "GMJjb4K0e-Na",
        "colab": {
          "base_uri": "https://localhost:8080/",
          "height": 17
        },
        "outputId": "a706ce6c-8220-4a97-a7ad-9a701e030e17"
      },
      "execution_count": 69,
      "outputs": [
        {
          "output_type": "display_data",
          "data": {
            "text/plain": [
              "<IPython.core.display.Javascript object>"
            ],
            "application/javascript": [
              "\n",
              "    async function download(id, filename, size) {\n",
              "      if (!google.colab.kernel.accessAllowed) {\n",
              "        return;\n",
              "      }\n",
              "      const div = document.createElement('div');\n",
              "      const label = document.createElement('label');\n",
              "      label.textContent = `Downloading \"${filename}\": `;\n",
              "      div.appendChild(label);\n",
              "      const progress = document.createElement('progress');\n",
              "      progress.max = size;\n",
              "      div.appendChild(progress);\n",
              "      document.body.appendChild(div);\n",
              "\n",
              "      const buffers = [];\n",
              "      let downloaded = 0;\n",
              "\n",
              "      const channel = await google.colab.kernel.comms.open(id);\n",
              "      // Send a message to notify the kernel that we're ready.\n",
              "      channel.send({})\n",
              "\n",
              "      for await (const message of channel.messages) {\n",
              "        // Send a message to notify the kernel that we're ready.\n",
              "        channel.send({})\n",
              "        if (message.buffers) {\n",
              "          for (const buffer of message.buffers) {\n",
              "            buffers.push(buffer);\n",
              "            downloaded += buffer.byteLength;\n",
              "            progress.value = downloaded;\n",
              "          }\n",
              "        }\n",
              "      }\n",
              "      const blob = new Blob(buffers, {type: 'application/binary'});\n",
              "      const a = document.createElement('a');\n",
              "      a.href = window.URL.createObjectURL(blob);\n",
              "      a.download = filename;\n",
              "      div.appendChild(a);\n",
              "      a.click();\n",
              "      div.remove();\n",
              "    }\n",
              "  "
            ]
          },
          "metadata": {}
        },
        {
          "output_type": "display_data",
          "data": {
            "text/plain": [
              "<IPython.core.display.Javascript object>"
            ],
            "application/javascript": [
              "download(\"download_77a66613-e1aa-4b71-84d5-c898c9e430f7\", \"Retailers_Sin_Outliers.xlsx\", 16664)"
            ]
          },
          "metadata": {}
        }
      ]
    }
  ]
}